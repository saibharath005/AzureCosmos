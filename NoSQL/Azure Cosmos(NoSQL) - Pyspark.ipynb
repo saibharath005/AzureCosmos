{
 "cells": [
  {
   "cell_type": "code",
   "execution_count": 0,
   "metadata": {
    "application/vnd.databricks.v1+cell": {
     "cellMetadata": {
      "byteLimit": 2048000,
      "rowLimit": 10000
     },
     "inputWidgets": {},
     "nuid": "e6fbfbb1-0224-483f-8851-a959471e558e",
     "showTitle": false,
     "title": ""
    }
   },
   "outputs": [],
   "source": [
    "# Set configuration settings\n",
    "config = {\n",
    "  \"spark.cosmos.accountEndpoint\": \"https://democosmosnosql.documents.azure.com:443/\",\n",
    "  \"spark.cosmos.accountKey\": \"lRzLNbbsfXgSI4Y7cl6GAqbXITP1GgcNWqRU28MzBVjLJxDBf34rYEmWf9dazOoOHXH56ZZtprHQACDbtMW3Sg==\",\n",
    "  \"spark.cosmos.database\": \"cosmicworks\",\n",
    "  \"spark.cosmos.container\": \"products\"\n",
    "}\n",
    "\n",
    "# # Configure Catalog Api    \n",
    "spark.conf.set(\"spark.sql.catalog.cosmosCatalog\", \"com.azure.cosmos.spark.CosmosCatalog\")\n",
    "spark.conf.set(\"spark.sql.catalog.cosmosCatalog.spark.cosmos.accountEndpoint\", config[\"spark.cosmos.accountEndpoint\"])\n",
    "spark.conf.set(\"spark.sql.catalog.cosmosCatalog.spark.cosmos.accountKey\", config[\"spark.cosmos.accountKey\"])"
   ]
  },
  {
   "cell_type": "code",
   "execution_count": 0,
   "metadata": {
    "application/vnd.databricks.v1+cell": {
     "cellMetadata": {
      "byteLimit": 2048000,
      "rowLimit": 10000
     },
     "inputWidgets": {},
     "nuid": "6dc3d258-266f-4791-92b1-50a7aab161c6",
     "showTitle": false,
     "title": ""
    }
   },
   "outputs": [
    {
     "output_type": "execute_result",
     "data": {
      "text/plain": [
       "DataFrame[]"
      ]
     },
     "execution_count": 2,
     "metadata": {},
     "output_type": "execute_result"
    }
   ],
   "source": [
    "\n",
    "spark.sql(\n",
    "    \"CREATE TABLE IF NOT EXISTS cosmosCatalog.cosmicworks.products \"\n",
    "    \"USING cosmos.oltp \"\n",
    "    \"TBLPROPERTIES(partitionKeyPath = '/category')\"\n",
    ")\n",
    "spark.sql(\n",
    "    \"CREATE TABLE IF NOT EXISTS cosmosCatalog.cosmicworks.employees \"\n",
    "    \"USING cosmos.oltp \"\n",
    "    \"TBLPROPERTIES(partitionKeyPath = '/organization,/department,/team')\"\n",
    ")"
   ]
  },
  {
   "cell_type": "code",
   "execution_count": 0,
   "metadata": {
    "application/vnd.databricks.v1+cell": {
     "cellMetadata": {
      "byteLimit": 2048000,
      "rowLimit": 10000
     },
     "inputWidgets": {},
     "nuid": "d2e10fb8-cf7e-4d1f-89aa-8c62a10654b4",
     "showTitle": false,
     "title": ""
    }
   },
   "outputs": [
    {
     "output_type": "execute_result",
     "data": {
      "text/plain": [
       "DataFrame[]"
      ]
     },
     "execution_count": 3,
     "metadata": {},
     "output_type": "execute_result"
    }
   ],
   "source": [
    "# Create a database by using the Catalog API    \n",
    "# Create a database by using the Catalog API    \n",
    "spark.sql(f\"CREATE DATABASE IF NOT EXISTS cosmosCatalog.cosmicworks;\")\n",
    "# Create a products container by using the Catalog API\n",
    "spark.sql(\n",
    "    \"CREATE TABLE IF NOT EXISTS cosmosCatalog.cosmicworks.products \"\n",
    "    \"USING cosmos.oltp \"\n",
    "    \"TBLPROPERTIES(partitionKeyPath = '/category')\"\n",
    ")\n",
    "# Create an employees container by using the Catalog API\n",
    "spark.sql(\n",
    "    \"CREATE TABLE IF NOT EXISTS cosmosCatalog.cosmicworks.employees \"\n",
    "    \"USING cosmos.oltp \"\n",
    "    \"TBLPROPERTIES(partitionKeyPath = '/organization,/department,/team')\"\n",
    ")"
   ]
  },
  {
   "cell_type": "code",
   "execution_count": 0,
   "metadata": {
    "application/vnd.databricks.v1+cell": {
     "cellMetadata": {
      "byteLimit": 2048000,
      "rowLimit": 10000
     },
     "inputWidgets": {},
     "nuid": "e157dadb-d469-457c-bbf5-88596746f555",
     "showTitle": false,
     "title": ""
    }
   },
   "outputs": [],
   "source": [
    "# Create sample data    \n",
    "products = (\n",
    "  (\"68719518391\", \"gear-surf-surfboards\", \"Yamba Surfboard\", 12, 850.00, False),\n",
    "  (\"68719518371\", \"gear-surf-surfboards\", \"Kiama Classic Surfboard\", 25, 790.00, True),\n",
    "  (\"1\", \"gear-surf-surfboards\", \"Yamba Surfboard\", 12, 850.00, False),\n",
    "  (\"2\", \"gear-surf-surfboards\", \"Kiama Classic Surfboard\", 25, 790.00, True)\n",
    ")"
   ]
  },
  {
   "cell_type": "code",
   "execution_count": 0,
   "metadata": {
    "application/vnd.databricks.v1+cell": {
     "cellMetadata": {
      "byteLimit": 2048000,
      "rowLimit": 10000
     },
     "inputWidgets": {},
     "nuid": "2ad38116-cf23-44c9-80e4-285b12ff2e9e",
     "showTitle": false,
     "title": ""
    }
   },
   "outputs": [],
   "source": [
    "# Ingest sample data    \n",
    "spark.createDataFrame(products) \\\n",
    "  .toDF(\"id\", \"category\", \"name\", \"quantity\", \"price\", \"clearance\") \\\n",
    "  .write \\\n",
    "  .format(\"cosmos.oltp\") \\\n",
    "  .options(**config) \\\n",
    "  .option(\"spark.cosmos.database\", \"cosmicworks\") \\\n",
    "  .option(\"spark.cosmos.container\", \"products\")\\\n",
    "  .mode(\"APPEND\") \\\n",
    "  .save()"
   ]
  },
  {
   "cell_type": "code",
   "execution_count": 0,
   "metadata": {
    "application/vnd.databricks.v1+cell": {
     "cellMetadata": {
      "byteLimit": 2048000,
      "rowLimit": 10000
     },
     "inputWidgets": {},
     "nuid": "7001cbab-052d-4841-afc4-9d2af7e05256",
     "showTitle": false,
     "title": ""
    }
   },
   "outputs": [],
   "source": [
    "# Load data    \n",
    "df = spark.read.format(\"cosmos.oltp\") \\\n",
    "  .options(**config) \\\n",
    "  .option(\"spark.cosmos.read.inferSchema.enabled\", \"true\") \\\n",
    "  .load()"
   ]
  },
  {
   "cell_type": "code",
   "execution_count": 0,
   "metadata": {
    "application/vnd.databricks.v1+cell": {
     "cellMetadata": {
      "byteLimit": 2048000,
      "rowLimit": 10000
     },
     "inputWidgets": {},
     "nuid": "a1e7ccb5-2742-4054-a7df-eb00b7335c9d",
     "showTitle": false,
     "title": ""
    }
   },
   "outputs": [
    {
     "output_type": "stream",
     "name": "stdout",
     "output_type": "stream",
     "text": [
      "root\n |-- name: string (nullable = true)\n |-- quantity: integer (nullable = true)\n |-- clearance: boolean (nullable = true)\n |-- price: integer (nullable = true)\n |-- id: string (nullable = false)\n |-- category: string (nullable = true)\n\n"
     ]
    }
   ],
   "source": [
    "# Render schema    \n",
    "df.printSchema()"
   ]
  },
  {
   "cell_type": "code",
   "execution_count": 0,
   "metadata": {
    "application/vnd.databricks.v1+cell": {
     "cellMetadata": {
      "byteLimit": 2048000,
      "rowLimit": 10000
     },
     "inputWidgets": {},
     "nuid": "763bf373-d9a8-4810-95bd-341f820a08c1",
     "showTitle": false,
     "title": ""
    }
   },
   "outputs": [
    {
     "output_type": "stream",
     "name": "stdout",
     "output_type": "stream",
     "text": [
      "+---------------+--------+---------+-----+-----------+--------------------+\n|           name|quantity|clearance|price|         id|            category|\n+---------------+--------+---------+-----+-----------+--------------------+\n|Yamba Surfboard|      12|    false|  850|68719518391|gear-surf-surfboards|\n|Yamba Surfboard|      12|    false|  850|          1|gear-surf-surfboards|\n+---------------+--------+---------+-----+-----------+--------------------+\n\n"
     ]
    }
   ],
   "source": [
    "# Render filtered data    \n",
    "df.where(\"quantity < 20\") \\\n",
    "  .show()"
   ]
  },
  {
   "cell_type": "code",
   "execution_count": 0,
   "metadata": {
    "application/vnd.databricks.v1+cell": {
     "cellMetadata": {
      "byteLimit": 2048000,
      "rowLimit": 10000
     },
     "inputWidgets": {},
     "nuid": "fd997fee-2aaa-4e22-ac14-f510562271f8",
     "showTitle": false,
     "title": ""
    }
   },
   "outputs": [
    {
     "output_type": "stream",
     "name": "stdout",
     "output_type": "stream",
     "text": [
      "+--------------------+--------+---------+-----+-----------+--------------------+\n|                name|quantity|clearance|price|         id|            category|\n+--------------------+--------+---------+-----+-----------+--------------------+\n|Kiama Classic Sur...|      25|     true|  790|68719518371|gear-surf-surfboards|\n+--------------------+--------+---------+-----+-----------+--------------------+\nonly showing top 1 row\n\n"
     ]
    }
   ],
   "source": [
    "# Render 1 row of flitered data    \n",
    "df.filter(df.clearance == True) \\\n",
    "  .show(1)"
   ]
  },
  {
   "cell_type": "code",
   "execution_count": 0,
   "metadata": {
    "application/vnd.databricks.v1+cell": {
     "cellMetadata": {
      "byteLimit": 2048000,
      "rowLimit": 10000
     },
     "inputWidgets": {},
     "nuid": "ed533d21-b89e-4480-bb26-93950bda05e5",
     "showTitle": false,
     "title": ""
    }
   },
   "outputs": [
    {
     "output_type": "stream",
     "name": "stdout",
     "output_type": "stream",
     "text": [
      "+-----------------------+--------+---------+-----+-----------+--------------------+\n|name                   |quantity|clearance|price|id         |category            |\n+-----------------------+--------+---------+-----+-----------+--------------------+\n|Kiama Classic Surfboard|25      |true     |790  |68719518371|gear-surf-surfboards|\n|Yamba Surfboard        |12      |false    |850  |68719518391|gear-surf-surfboards|\n|Yamba Surfboard        |12      |false    |850  |1          |gear-surf-surfboards|\n|Kiama Classic Surfboard|25      |true     |790  |2          |gear-surf-surfboards|\n+-----------------------+--------+---------+-----+-----------+--------------------+\n\n"
     ]
    }
   ],
   "source": [
    "# Render five rows of unfiltered and untruncated data    \n",
    "df.show(5, False)"
   ]
  },
  {
   "cell_type": "code",
   "execution_count": 0,
   "metadata": {
    "application/vnd.databricks.v1+cell": {
     "cellMetadata": {
      "byteLimit": 2048000,
      "rowLimit": 10000
     },
     "inputWidgets": {},
     "nuid": "6036e63b-e756-420d-9793-0bb185240085",
     "showTitle": false,
     "title": ""
    }
   },
   "outputs": [
    {
     "output_type": "stream",
     "name": "stdout",
     "output_type": "stream",
     "text": [
      "+---------------+--------+---------+-----+-----------+--------------------+\n|           name|quantity|clearance|price|         id|            category|\n+---------------+--------+---------+-----+-----------+--------------------+\n|Yamba Surfboard|      12|    false|  850|68719518391|gear-surf-surfboards|\n|Yamba Surfboard|      12|    false|  850|          1|gear-surf-surfboards|\n+---------------+--------+---------+-----+-----------+--------------------+\n\n"
     ]
    }
   ],
   "source": [
    "# Render results of raw query    \n",
    "rawQuery = \"SELECT * FROM cosmosCatalog.cosmicworks.products WHERE price > 800\"\n",
    "rawDf = spark.sql(rawQuery)\n",
    "rawDf.show()"
   ]
  },
  {
   "cell_type": "code",
   "execution_count": 0,
   "metadata": {
    "application/vnd.databricks.v1+cell": {
     "cellMetadata": {
      "byteLimit": 2048000,
      "rowLimit": 10000
     },
     "inputWidgets": {},
     "nuid": "c09c74b7-73e1-4cd7-ad2f-38f4f186886f",
     "showTitle": false,
     "title": ""
    }
   },
   "outputs": [],
   "source": [
    "# Create employee data\n",
    "employees = (\n",
    "  (\"6347638858132\", \"CosmicWorks\", \"Marketing\", \"Outside Sales\", \"Alain Henry\",  '[ { \"type\": \"phone\", \"value\": \"425-555-0117\" }, { \"email\": \"alain@adventure-works.com\" } ]'), \n",
    ")"
   ]
  },
  {
   "cell_type": "code",
   "execution_count": 0,
   "metadata": {
    "application/vnd.databricks.v1+cell": {
     "cellMetadata": {
      "byteLimit": 2048000,
      "rowLimit": 10000
     },
     "inputWidgets": {},
     "nuid": "0e8286c5-76f6-4676-840f-41c8e4982a1c",
     "showTitle": false,
     "title": ""
    }
   },
   "outputs": [],
   "source": [
    "# Ingest data\n",
    "\n",
    "config = {\n",
    "  \"spark.cosmos.accountEndpoint\": \"https://democosmosnosql.documents.azure.com:443/\",\n",
    "  \"spark.cosmos.accountKey\": \"lRzLNbbsfXgSI4Y7cl6GAqbXITP1GgcNWqRU28MzBVjLJxDBf34rYEmWf9dazOoOHXH56ZZtprHQACDbtMW3Sg==\",\n",
    "#   \"spark.cosmos.database\": \"cosmicworks\",\n",
    "#   \"spark.cosmos.container\": \"employees\"\n",
    "}\n",
    "\n",
    "spark.createDataFrame(employees) \\\n",
    "  .toDF(\"id\", \"organization\", \"department\", \"team\", \"name\", \"contacts\") \\\n",
    "  .write \\\n",
    "  .format(\"cosmos.oltp\") \\\n",
    "  .options(**config) \\\n",
    "  .option(\"spark.cosmos.database\" , \"cosmicworks\") \\\n",
    "  .option(\"spark.cosmos.container\" , \"employees\") \\\n",
    "  .mode(\"APPEND\") \\\n",
    "  .save()"
   ]
  },
  {
   "cell_type": "code",
   "execution_count": 0,
   "metadata": {
    "application/vnd.databricks.v1+cell": {
     "cellMetadata": {
      "byteLimit": 2048000,
      "rowLimit": 10000
     },
     "inputWidgets": {},
     "nuid": "5a8f28bf-609f-4aa0-b1e0-96532fb1f443",
     "showTitle": false,
     "title": ""
    }
   },
   "outputs": [
    {
     "output_type": "stream",
     "name": "stdout",
     "output_type": "stream",
     "text": [
      "+------------+-----------+--------------------+----------+-------------+-------------+\n|organization|       name|            contacts|department|           id|         team|\n+------------+-----------+--------------------+----------+-------------+-------------+\n| CosmicWorks|Alain Henry|[ { \"type\": \"phon...| Marketing|  63476388581|Outside Sales|\n| CosmicWorks|Alain Henry|[ { \"type\": \"phon...| Marketing|6347638858132|Outside Sales|\n+------------+-----------+--------------------+----------+-------------+-------------+\n\n"
     ]
    }
   ],
   "source": [
    "# Read and render data\n",
    "rawJsonDf = spark.read.format(\"cosmos.oltp\") \\\n",
    "  .options(**config) \\\n",
    "  .option(\"spark.cosmos.database\" , \"cosmicworks\") \\\n",
    "  .option(\"spark.cosmos.container\" , \"employees\") \\\n",
    "  .load()\n",
    "rawJsonDf.show()"
   ]
  }
 ],
 "metadata": {
  "application/vnd.databricks.v1+notebook": {
   "dashboards": [],
   "environmentMetadata": {
    "base_environment": "",
    "client": "1"
   },
   "language": "python",
   "notebookMetadata": {
    "pythonIndentUnit": 4
   },
   "notebookName": "Azure Cosmos(NoSQL) - Pyspark",
   "widgets": {}
  }
 },
 "nbformat": 4,
 "nbformat_minor": 0
}
