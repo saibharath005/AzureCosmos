{
 "cells": [
  {
   "cell_type": "code",
   "execution_count": 0,
   "metadata": {
    "application/vnd.databricks.v1+cell": {
     "cellMetadata": {
      "byteLimit": 2048000,
      "rowLimit": 10000
     },
     "inputWidgets": {},
     "nuid": "ca10c391-b511-4d72-8171-9a64396b9aea",
     "showTitle": false,
     "title": ""
    }
   },
   "source": [
    "import pymongo\n",
    "client = pymongo.MongoClient()\n",
    "database = client[\"demomongodb\"]\n",
    "collection = database[\"demomongotest\"]\n",
    "document = {\n",
    "        \"projectId\": \"0123456789\",\n",
    "        \"title\": \"Hello\",\n",
    "        \"message\":\"Writing\"\n",
    "    }\n",
    "result = collection.insert_one(document)"
   ]
  },
"outputs": [
    {
     "output_type": "execute_result",
     "data": {
      "text/plain": [
       "[{'_id': ObjectId('671862dd5b479606c382de2d'),\n",
       "  'projectId': '0123456789',\n",
       "  'title': 'Hello',\n",
       "  'message': 'Writing'}]"
      ]
     },
  {
   "cell_type": "code",
   "execution_count": 0,
   "metadata": {
    "application/vnd.databricks.v1+cell": {
     "cellMetadata": {
      "byteLimit": 2048000,
      "rowLimit": 10000
     },
     "inputWidgets": {},
     "nuid": "a6eb0b1e-44d1-4288-9188-5504dbd5f4ef",
     "showTitle": false,
     "title": ""
    }
   },
   "outputs": [
    {
     "output_type": "execute_result",
     "data": {
      "text/plain": [
       "[{'_id': ObjectId('671862dd5b479606c382de2d'),\n",
       "  'projectId': '0123456789',\n",
       "  'title': 'Hello',\n",
       "  'message': 'Writing'}]"
      ]
     },
     "execution_count": 6,
     "metadata": {},
     "output_type": "execute_result"
    }
   ],
   "source": [
    "data = list(collection.find())\n",
    "data"
   ]
  }
 ],
 "metadata": {
  "application/vnd.databricks.v1+notebook": {
   "dashboards": [],
   "environmentMetadata": {
    "base_environment": "",
    "client": "1"
   },
   "language": "python",
   "notebookMetadata": {
    "pythonIndentUnit": 4
   },
   "notebookName": "Azure Cosmos(MongoDB) - Python",
   "widgets": {}
  }
 },
 "nbformat": 4,
 "nbformat_minor": 0
}
